{
 "cells": [
  {
   "cell_type": "markdown",
   "metadata": {},
   "source": [
    "### Notebook to train Keras CNN\n",
    "\n",
    "Drawing from this [example](https://keras.io/examples/vision/mnist_convnet/)."
   ]
  },
  {
   "cell_type": "code",
   "execution_count": 1,
   "metadata": {},
   "outputs": [],
   "source": [
    "import numpy as np\n",
    "from tensorflow import keras\n",
    "from tensorflow.keras import layers"
   ]
  },
  {
   "cell_type": "code",
   "execution_count": 2,
   "metadata": {},
   "outputs": [
    {
     "name": "stdout",
     "output_type": "stream",
     "text": [
      "x_train shape: (60000, 28, 28, 1)\n",
      "60000 train samples\n",
      "10000 test samples\n"
     ]
    }
   ],
   "source": [
    "# Model / data parameters\n",
    "num_classes = 10\n",
    "input_shape = (28, 28, 1)\n",
    "\n",
    "# the data, split between train and test sets\n",
    "(x_train, y_train), (x_test, y_test) = keras.datasets.mnist.load_data()\n",
    "\n",
    "# Scale images to the [0, 1] range\n",
    "x_train = x_train.astype(\"float32\") / 255\n",
    "x_test = x_test.astype(\"float32\") / 255\n",
    "# Make sure images have shape (28, 28, 1)\n",
    "x_train = np.expand_dims(x_train, -1)\n",
    "x_test = np.expand_dims(x_test, -1)\n",
    "print(\"x_train shape:\", x_train.shape)\n",
    "print(x_train.shape[0], \"train samples\")\n",
    "print(x_test.shape[0], \"test samples\")\n",
    "\n",
    "\n",
    "# convert class vectors to binary class matrices\n",
    "y_train = keras.utils.to_categorical(y_train, num_classes)\n",
    "y_test = keras.utils.to_categorical(y_test, num_classes)"
   ]
  },
  {
   "cell_type": "code",
   "execution_count": 3,
   "metadata": {},
   "outputs": [
    {
     "name": "stderr",
     "output_type": "stream",
     "text": [
      "WARNING: Logging before flag parsing goes to stderr.\n",
      "W0814 13:48:38.595135 140004498454336 deprecation.py:506] From /homes/gws/hughchen/anaconda2/envs/tf36/lib/python3.6/site-packages/tensorflow/python/ops/init_ops.py:1251: calling VarianceScaling.__init__ (from tensorflow.python.ops.init_ops) with dtype is deprecated and will be removed in a future version.\n",
      "Instructions for updating:\n",
      "Call initializer instance with the dtype argument instead of passing it to the constructor\n"
     ]
    },
    {
     "name": "stdout",
     "output_type": "stream",
     "text": [
      "Model: \"sequential\"\n",
      "_________________________________________________________________\n",
      "Layer (type)                 Output Shape              Param #   \n",
      "=================================================================\n",
      "conv2d (Conv2D)              (None, 26, 26, 32)        320       \n",
      "_________________________________________________________________\n",
      "max_pooling2d (MaxPooling2D) (None, 13, 13, 32)        0         \n",
      "_________________________________________________________________\n",
      "conv2d_1 (Conv2D)            (None, 11, 11, 64)        18496     \n",
      "_________________________________________________________________\n",
      "max_pooling2d_1 (MaxPooling2 (None, 5, 5, 64)          0         \n",
      "_________________________________________________________________\n",
      "flatten (Flatten)            (None, 1600)              0         \n",
      "_________________________________________________________________\n",
      "dense (Dense)                (None, 10)                16010     \n",
      "=================================================================\n",
      "Total params: 34,826\n",
      "Trainable params: 34,826\n",
      "Non-trainable params: 0\n",
      "_________________________________________________________________\n"
     ]
    }
   ],
   "source": [
    "model = keras.Sequential(\n",
    "    [\n",
    "        keras.Input(shape=input_shape),\n",
    "        layers.Conv2D(32, kernel_size=(3, 3), activation=\"relu\"),\n",
    "        layers.MaxPooling2D(pool_size=(2, 2)),\n",
    "        layers.Conv2D(64, kernel_size=(3, 3), activation=\"relu\"),\n",
    "        layers.MaxPooling2D(pool_size=(2, 2)),\n",
    "        layers.Flatten(),\n",
    "        layers.Dense(num_classes, activation=\"softmax\"),\n",
    "    ]\n",
    ")\n",
    "\n",
    "model.summary()"
   ]
  },
  {
   "cell_type": "code",
   "execution_count": 4,
   "metadata": {},
   "outputs": [
    {
     "name": "stdout",
     "output_type": "stream",
     "text": [
      "Train on 54000 samples, validate on 6000 samples\n",
      "Epoch 1/15\n",
      "54000/54000 [==============================] - 6s 105us/sample - loss: 0.2889 - acc: 0.9178 - val_loss: 0.0786 - val_acc: 0.9780\n",
      "Epoch 2/15\n",
      "54000/54000 [==============================] - 5s 100us/sample - loss: 0.0807 - acc: 0.9755 - val_loss: 0.0557 - val_acc: 0.9847\n",
      "Epoch 3/15\n",
      "54000/54000 [==============================] - 5s 100us/sample - loss: 0.0583 - acc: 0.9825 - val_loss: 0.0498 - val_acc: 0.9852\n",
      "Epoch 4/15\n",
      "54000/54000 [==============================] - 5s 97us/sample - loss: 0.0475 - acc: 0.9856 - val_loss: 0.0444 - val_acc: 0.9883\n",
      "Epoch 5/15\n",
      "54000/54000 [==============================] - 5s 98us/sample - loss: 0.0406 - acc: 0.9875 - val_loss: 0.0429 - val_acc: 0.9897\n",
      "Epoch 6/15\n",
      "54000/54000 [==============================] - 5s 98us/sample - loss: 0.0357 - acc: 0.9893 - val_loss: 0.0389 - val_acc: 0.9895\n",
      "Epoch 7/15\n",
      "54000/54000 [==============================] - 5s 99us/sample - loss: 0.0294 - acc: 0.9908 - val_loss: 0.0342 - val_acc: 0.9892\n",
      "Epoch 8/15\n",
      "54000/54000 [==============================] - 5s 96us/sample - loss: 0.0276 - acc: 0.9909 - val_loss: 0.0393 - val_acc: 0.9883\n",
      "Epoch 9/15\n",
      "54000/54000 [==============================] - 5s 96us/sample - loss: 0.0229 - acc: 0.9930 - val_loss: 0.0345 - val_acc: 0.9903\n",
      "Epoch 10/15\n",
      "54000/54000 [==============================] - 5s 97us/sample - loss: 0.0200 - acc: 0.9937 - val_loss: 0.0425 - val_acc: 0.9885\n",
      "Epoch 11/15\n",
      "54000/54000 [==============================] - 5s 98us/sample - loss: 0.0171 - acc: 0.9947 - val_loss: 0.0398 - val_acc: 0.9883\n",
      "Epoch 12/15\n",
      "54000/54000 [==============================] - 5s 98us/sample - loss: 0.0161 - acc: 0.9950 - val_loss: 0.0422 - val_acc: 0.9888\n",
      "Epoch 13/15\n",
      "54000/54000 [==============================] - 5s 98us/sample - loss: 0.0135 - acc: 0.9958 - val_loss: 0.0393 - val_acc: 0.9898\n",
      "Epoch 14/15\n",
      "54000/54000 [==============================] - 5s 97us/sample - loss: 0.0132 - acc: 0.9957 - val_loss: 0.0379 - val_acc: 0.9912\n",
      "Epoch 15/15\n",
      "54000/54000 [==============================] - 5s 97us/sample - loss: 0.0105 - acc: 0.9966 - val_loss: 0.0458 - val_acc: 0.9885\n"
     ]
    },
    {
     "data": {
      "text/plain": [
       "<tensorflow.python.keras.callbacks.History at 0x7f54d1cb5860>"
      ]
     },
     "execution_count": 4,
     "metadata": {},
     "output_type": "execute_result"
    }
   ],
   "source": [
    "batch_size = 128\n",
    "epochs = 15\n",
    "model.compile(loss=\"categorical_crossentropy\", optimizer=\"adam\", metrics=[\"accuracy\"])\n",
    "model.fit(x_train, y_train, batch_size=batch_size, epochs=epochs, validation_split=0.1)"
   ]
  },
  {
   "cell_type": "code",
   "execution_count": 5,
   "metadata": {},
   "outputs": [
    {
     "name": "stdout",
     "output_type": "stream",
     "text": [
      "Test loss: 0.039119321895983286\n",
      "Test accuracy: 0.9889\n"
     ]
    }
   ],
   "source": [
    "score = model.evaluate(x_test, y_test, verbose=0)\n",
    "print(\"Test loss:\", score[0])\n",
    "print(\"Test accuracy:\", score[1])"
   ]
  }
 ],
 "metadata": {
  "kernelspec": {
   "display_name": "Python (tf36)",
   "language": "python",
   "name": "tf36"
  },
  "language_info": {
   "codemirror_mode": {
    "name": "ipython",
    "version": 3
   },
   "file_extension": ".py",
   "mimetype": "text/x-python",
   "name": "python",
   "nbconvert_exporter": "python",
   "pygments_lexer": "ipython3",
   "version": "3.6.8"
  }
 },
 "nbformat": 4,
 "nbformat_minor": 2
}
