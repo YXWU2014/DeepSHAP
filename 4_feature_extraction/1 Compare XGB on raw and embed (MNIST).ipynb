{
 "cells": [
  {
   "cell_type": "markdown",
   "metadata": {},
   "source": [
    "### Compare XGBoost on raw versus embedded data\n",
    "\n",
    "This experiment aims to show that the embedded data works better for predictions than the raw data"
   ]
  },
  {
   "cell_type": "code",
   "execution_count": 3,
   "metadata": {},
   "outputs": [
    {
     "name": "stdout",
     "output_type": "stream",
     "text": [
      "Test loss: 0.0424361377954483\n",
      "Test accuracy: 0.9865999817848206\n"
     ]
    }
   ],
   "source": [
    "from keras.models import Sequential\n",
    "from sklearn import metrics\n",
    "import xgboost as xgb\n",
    "import numpy as np\n",
    "import pickle, os\n",
    "\n",
    "from model import mnist_cnn2, get_acc, bootstrap_test\n",
    "from deepshap.data import load_mnist\n",
    "\n",
    "# multiclass classification using the softmax objective\n",
    "XGB_PARAM = {\n",
    "    'max_depth': 5, 'eta': 0.5, 'eta_decay': 0.9, 'min_eta': 0.05,\n",
    "    'silent': 0, 'objective': 'multi:softmax',   \n",
    "    'num_class': 10,'early_stopping_rounds': 10\n",
    "}\n",
    "\n",
    "# Load data\n",
    "x_train, y_train, x_test, y_test = load_mnist()\n",
    "\n",
    "# Reshape x\n",
    "x_train_flat = x_train.reshape([x_train.shape[0],784])\n",
    "x_test_flat  = x_test.reshape([x_test.shape[0],784])\n",
    "\n",
    "### Get embedded data ###\n",
    "cnn_mod = mnist_cnn2() # Load the CNN\n",
    "emb_mod = Sequential() # Exclude last layer\n",
    "for layer in cnn_mod.layers[:-1]: emb_mod.add(layer)\n",
    "x_train_embe = emb_mod.predict(x_train)\n",
    "x_test_embe  = emb_mod.predict(x_test)\n",
    "\n",
    "xgb_acc_lst     = []; cnn_xgb_acc_lst = []\n",
    "num_trees_lst   = [5,10,30,50,100,200]\n",
    "\n",
    "if not os.path.exists(\"results/cnn_xgb_acc_arr.npy\"):\n",
    "\n",
    "    for num_trees in num_trees_lst:\n",
    "        print(\"\\nNumber of estimators: {}\".format(num_trees)+\"\\n\"+\"#\"*20)\n",
    "\n",
    "        ### XGB ###\n",
    "        print(\"\\nXGB\"+\"\\n\"+\"#\"*10)\n",
    "        # Train model\n",
    "        flat_train_data = xgb.DMatrix(x_train_flat, label=y_train)\n",
    "        xgb_model_raw = xgb.train(XGB_PARAM, flat_train_data, num_trees)\n",
    "        \n",
    "        # Get accuracies\n",
    "        train_accu = get_acc(xgb_model_raw, xgb.DMatrix(x_train_flat), y_train)\n",
    "        test_accu  = get_acc(xgb_model_raw, xgb.DMatrix(x_test_flat), y_test)\n",
    "        print(\"Train Accuracy:\", train_accu); print(\"Test Accuracy: \", test_accu)\n",
    "        test_pred = xgb_model_raw.predict(xgb.DMatrix(x_test_flat))\n",
    "        xgb_acc_lst.append(bootstrap_test(y_test, test_pred))\n",
    "\n",
    "        ### CNN->XGB ###\n",
    "        print(\"\\nCNN->XGB\"+\"\\n\"+\"#\"*10)\n",
    "        # Train XGB model\n",
    "        emb_train_data = xgb.DMatrix(x_train_embe, label=y_train)\n",
    "        xgb_model_emb = xgb.train(XGB_PARAM, emb_train_data, num_trees)\n",
    "\n",
    "        # Evaluate the accuracies\n",
    "        train_accu = get_acc(xgb_model_emb, xgb.DMatrix(x_train_embe), y_train)\n",
    "        test_accu  = get_acc(xgb_model_emb, xgb.DMatrix(x_test_embe), y_test)\n",
    "        print(\"Train Accuracy:\", train_accu); print(\"Test Accuracy: \", test_accu)\n",
    "        test_pred = xgb_model_emb.predict(xgb.DMatrix(x_test_embe))\n",
    "        cnn_xgb_acc_lst.append(bootstrap_test(y_test, test_pred))\n",
    "\n",
    "    xgb_acc_arr     = np.array(xgb_acc_lst)\n",
    "    cnn_xgb_acc_arr = np.array(cnn_xgb_acc_lst)\n",
    "    \n",
    "    np.save(\"results/xgb_acc_arr.npy\",     xgb_acc_arr)\n",
    "    np.save(\"results/cnn_xgb_acc_arr.npy\", cnn_xgb_acc_arr)\n",
    "    \n",
    "else:\n",
    "    xgb_acc_arr     = np.load(\"results/xgb_acc_arr.npy\")\n",
    "    cnn_xgb_acc_arr = np.load(\"results/cnn_xgb_acc_arr.npy\")"
   ]
  },
  {
   "cell_type": "code",
   "execution_count": 4,
   "metadata": {},
   "outputs": [],
   "source": [
    "from keras.models import Sequential\n",
    "from sklearn import metrics\n",
    "import xgboost as xgb\n",
    "import numpy as np\n",
    "import pickle, os\n",
    "\n",
    "from model import mnist_cnn2, get_acc, bootstrap_test\n",
    "from deepshap.data import load_mnist\n",
    "\n",
    "# multiclass classification using the softmax objective\n",
    "XGB_PARAM = {\n",
    "    'max_depth': 5, 'eta': 0.5, 'eta_decay': 0.9, 'min_eta': 0.05,\n",
    "    'silent': 0, 'objective': 'multi:softmax',   \n",
    "    'num_class': 10,'early_stopping_rounds': 10\n",
    "}\n",
    "\n",
    "# Load data\n",
    "x_train, y_train, x_test, y_test = load_mnist()\n"
   ]
  },
  {
   "cell_type": "code",
   "execution_count": 12,
   "metadata": {},
   "outputs": [
    {
     "data": {
      "image/png": "[encoded data removed]",
      "text/plain": [
       "<Figure size 432x288 with 1 Axes>"
      ]
     },
     "metadata": {
      "needs_background": "light"
     },
     "output_type": "display_data"
    }
   ],
   "source": [
    "import matplotlib.pyplot as plt\n",
    "from scipy.stats import sem\n",
    "\n",
    "# Plot accuracies\n",
    "plt.plot(num_trees_lst, xgb_acc_arr.mean(1), \n",
    "             label=\"XGB\")\n",
    "\n",
    "plt.plot(num_trees_lst, cnn_xgb_acc_arr.mean(1), \n",
    "             label=\"CNN->XGB\")\n",
    "\n",
    "plt.plot([num_trees_lst[0],num_trees_lst[-1]], [0.9866,0.9866], \n",
    "         label=\"CNN\", color=\"g\")\n",
    "\n",
    "plt.title(\"Comparing XGB to CNN->XGB (MNIST)\")\n",
    "plt.ylabel(\"Test Accuracy\")\n",
    "plt.xlabel(\"Number of trees in XGB\")\n",
    "plt.legend()\n",
    "plt.savefig(\"fig/compare_xgb_to_cnn.pdf\")\n",
    "plt.show()"
   ]
  },
  {
   "cell_type": "code",
   "execution_count": null,
   "metadata": {},
   "outputs": [],
   "source": []
  }
 ],
 "metadata": {
  "kernelspec": {
   "display_name": "py37",
   "language": "python",
   "name": "py37"
  },
  "language_info": {
   "codemirror_mode": {
    "name": "ipython",
    "version": 3
   },
   "file_extension": ".py",
   "mimetype": "text/x-python",
   "name": "python",
   "nbconvert_exporter": "python",
   "pygments_lexer": "ipython3",
   "version": "3.7.7"
  }
 },
 "nbformat": 4,
 "nbformat_minor": 2
}
