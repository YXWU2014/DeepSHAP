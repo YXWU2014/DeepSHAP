{
 "cells": [
  {
   "cell_type": "markdown",
   "metadata": {},
   "source": [
    "## Notebook to explain an individual with different backgrounds"
   ]
  },
  {
   "cell_type": "code",
   "execution_count": 1,
   "metadata": {},
   "outputs": [
    {
     "name": "stderr",
     "output_type": "stream",
     "text": [
      "Using TensorFlow backend.\n"
     ]
    },
    {
     "ename": "KeyboardInterrupt",
     "evalue": "",
     "output_type": "error",
     "traceback": [
      "\u001b[0;31m---------------------------------------------------------------------------\u001b[0m",
      "\u001b[0;31mKeyboardInterrupt\u001b[0m                         Traceback (most recent call last)",
      "\u001b[0;32m<ipython-input-1-7b043928003d>\u001b[0m in \u001b[0;36m<module>\u001b[0;34m\u001b[0m\n\u001b[1;32m      9\u001b[0m \u001b[0;32mfrom\u001b[0m \u001b[0mdeepshap\u001b[0m\u001b[0;34m.\u001b[0m\u001b[0mdata\u001b[0m \u001b[0;32mimport\u001b[0m \u001b[0mload_nhanes\u001b[0m\u001b[0;34m,\u001b[0m \u001b[0mget_nhanes_feat_names\u001b[0m\u001b[0;34m\u001b[0m\u001b[0;34m\u001b[0m\u001b[0m\n\u001b[1;32m     10\u001b[0m \u001b[0mtrainx\u001b[0m\u001b[0;34m,\u001b[0m \u001b[0mtrainy\u001b[0m\u001b[0;34m,\u001b[0m \u001b[0m_\u001b[0m\u001b[0;34m,\u001b[0m \u001b[0m_\u001b[0m\u001b[0;34m,\u001b[0m \u001b[0mtestx\u001b[0m\u001b[0;34m,\u001b[0m \u001b[0mtesty\u001b[0m \u001b[0;34m=\u001b[0m \u001b[0mload_nhanes\u001b[0m\u001b[0;34m(\u001b[0m\u001b[0;34m)\u001b[0m\u001b[0;34m\u001b[0m\u001b[0;34m\u001b[0m\u001b[0m\n\u001b[0;32m---> 11\u001b[0;31m \u001b[0mfeat_names\u001b[0m \u001b[0;34m=\u001b[0m \u001b[0mget_nhanes_feat_names\u001b[0m\u001b[0;34m(\u001b[0m\u001b[0;34m)\u001b[0m\u001b[0;34m\u001b[0m\u001b[0;34m\u001b[0m\u001b[0m\n\u001b[0m\u001b[1;32m     12\u001b[0m \u001b[0;34m\u001b[0m\u001b[0m\n\u001b[1;32m     13\u001b[0m \u001b[0;31m# Load model\u001b[0m\u001b[0;34m\u001b[0m\u001b[0;34m\u001b[0m\u001b[0;34m\u001b[0m\u001b[0m\n",
      "\u001b[0;32m~/deepshapexp/deepshap/data.py\u001b[0m in \u001b[0;36mget_nhanes_feat_names\u001b[0;34m()\u001b[0m\n\u001b[1;32m    111\u001b[0m     \u001b[0mGet\u001b[0m \u001b[0mthe\u001b[0m \u001b[0mappropriate\u001b[0m \u001b[0mfeature\u001b[0m \u001b[0mnames\u001b[0m \u001b[0;34m(\u001b[0m\u001b[0;32mfor\u001b[0m \u001b[0mSHAP\u001b[0m \u001b[0mplots\u001b[0m\u001b[0;34m)\u001b[0m\u001b[0;34m\u001b[0m\u001b[0;34m\u001b[0m\u001b[0m\n\u001b[1;32m    112\u001b[0m     \"\"\"\n\u001b[0;32m--> 113\u001b[0;31m     \u001b[0mX\u001b[0m\u001b[0;34m,\u001b[0m \u001b[0m_\u001b[0m \u001b[0;34m=\u001b[0m \u001b[0mpreprocessed_data\u001b[0m\u001b[0;34m(\u001b[0m\u001b[0;34m)\u001b[0m\u001b[0;34m\u001b[0m\u001b[0;34m\u001b[0m\u001b[0m\n\u001b[0m\u001b[1;32m    114\u001b[0m     \u001b[0mmapped_feature_names\u001b[0m \u001b[0;34m=\u001b[0m \u001b[0mlist\u001b[0m\u001b[0;34m(\u001b[0m\u001b[0mmap\u001b[0m\u001b[0;34m(\u001b[0m\u001b[0;32mlambda\u001b[0m \u001b[0mx\u001b[0m\u001b[0;34m:\u001b[0m \u001b[0mname_map\u001b[0m\u001b[0;34m.\u001b[0m\u001b[0mget\u001b[0m\u001b[0;34m(\u001b[0m\u001b[0mx\u001b[0m\u001b[0;34m,\u001b[0m \u001b[0mx\u001b[0m\u001b[0;34m)\u001b[0m\u001b[0;34m,\u001b[0m \u001b[0mX\u001b[0m\u001b[0;34m.\u001b[0m\u001b[0mcolumns\u001b[0m\u001b[0;34m)\u001b[0m\u001b[0;34m)\u001b[0m\u001b[0;34m\u001b[0m\u001b[0;34m\u001b[0m\u001b[0m\n\u001b[1;32m    115\u001b[0m     \u001b[0;32mreturn\u001b[0m\u001b[0;34m(\u001b[0m\u001b[0mmapped_feature_names\u001b[0m\u001b[0;34m)\u001b[0m\u001b[0;34m\u001b[0m\u001b[0;34m\u001b[0m\u001b[0m\n",
      "\u001b[0;32m~/deepshapexp/deepshap/data.py\u001b[0m in \u001b[0;36mpreprocessed_data\u001b[0;34m()\u001b[0m\n\u001b[1;32m     84\u001b[0m     \u001b[0mReturn\u001b[0m \u001b[0mthe\u001b[0m \u001b[0mpreprocessed\u001b[0m \u001b[0mX\u001b[0m \u001b[0;32mand\u001b[0m \u001b[0my\u001b[0m\u001b[0;34m\u001b[0m\u001b[0;34m\u001b[0m\u001b[0m\n\u001b[1;32m     85\u001b[0m     \"\"\"\n\u001b[0;32m---> 86\u001b[0;31m     \u001b[0mX\u001b[0m\u001b[0;34m,\u001b[0m\u001b[0my\u001b[0m \u001b[0;34m=\u001b[0m \u001b[0mloadnhanes\u001b[0m\u001b[0;34m.\u001b[0m\u001b[0m_load\u001b[0m\u001b[0;34m(\u001b[0m\u001b[0;34m)\u001b[0m\u001b[0;34m\u001b[0m\u001b[0;34m\u001b[0m\u001b[0m\n\u001b[0m\u001b[1;32m     87\u001b[0m \u001b[0;34m\u001b[0m\u001b[0m\n\u001b[1;32m     88\u001b[0m     \u001b[0;31m# clean up a bit\u001b[0m\u001b[0;34m\u001b[0m\u001b[0;34m\u001b[0m\u001b[0;34m\u001b[0m\u001b[0m\n",
      "\u001b[0;32m~/deepshapexp/deepshap/loadnhanes.py\u001b[0m in \u001b[0;36m_load\u001b[0;34m(biochemtapepath, medexamtapepath, anthropometrypath, vitlpath, verbose)\u001b[0m\n\u001b[1;32m     54\u001b[0m             \u001b[0;31m# Date of examination\u001b[0m\u001b[0;34m\u001b[0m\u001b[0;34m\u001b[0m\u001b[0;34m\u001b[0m\u001b[0m\n\u001b[1;32m     55\u001b[0m             \u001b[0md\u001b[0m\u001b[0;34m[\u001b[0m\u001b[0mseqn\u001b[0m\u001b[0;34m]\u001b[0m\u001b[0;34m[\u001b[0m\u001b[0;34m'exam_month'\u001b[0m\u001b[0;34m]\u001b[0m \u001b[0;34m=\u001b[0m \u001b[0mint\u001b[0m\u001b[0;34m(\u001b[0m\u001b[0mline\u001b[0m\u001b[0;34m[\u001b[0m\u001b[0;36m137\u001b[0m\u001b[0;34m:\u001b[0m\u001b[0;36m139\u001b[0m\u001b[0;34m]\u001b[0m\u001b[0;34m)\u001b[0m\u001b[0;34m\u001b[0m\u001b[0;34m\u001b[0m\u001b[0m\n\u001b[0;32m---> 56\u001b[0;31m             \u001b[0md\u001b[0m\u001b[0;34m[\u001b[0m\u001b[0mseqn\u001b[0m\u001b[0;34m]\u001b[0m\u001b[0;34m[\u001b[0m\u001b[0;34m'exam_year'\u001b[0m\u001b[0;34m]\u001b[0m \u001b[0;34m=\u001b[0m \u001b[0mint\u001b[0m\u001b[0;34m(\u001b[0m\u001b[0mline\u001b[0m\u001b[0;34m[\u001b[0m\u001b[0;36m141\u001b[0m\u001b[0;34m:\u001b[0m\u001b[0;36m143\u001b[0m\u001b[0;34m]\u001b[0m\u001b[0;34m)\u001b[0m\u001b[0;34m\u001b[0m\u001b[0;34m\u001b[0m\u001b[0m\n\u001b[0m\u001b[1;32m     57\u001b[0m \u001b[0;34m\u001b[0m\u001b[0m\n\u001b[1;32m     58\u001b[0m             \u001b[0;31m# 1 if male, 2 if female\u001b[0m\u001b[0;34m\u001b[0m\u001b[0;34m\u001b[0m\u001b[0;34m\u001b[0m\u001b[0m\n",
      "\u001b[0;31mKeyboardInterrupt\u001b[0m: "
     ]
    }
   ],
   "source": [
    "import xgboost, shap, os, scipy, sklearn, sys\n",
    "import matplotlib.pyplot as plt\n",
    "import pandas as pd\n",
    "import numpy as np\n",
    "import keras\n",
    "sys.path.append(\"/homes/gws/hughchen/deepshap-exploration/\")\n",
    "\n",
    "# Load data\n",
    "from deepshap.data import load_nhanes, get_nhanes_feat_names\n",
    "trainx, trainy, _, _, testx, testy = load_nhanes()\n",
    "feat_names = get_nhanes_feat_names()\n",
    "\n",
    "# Load model\n",
    "from model import nhanes_mlp\n",
    "model = nhanes_mlp()"
   ]
  },
  {
   "cell_type": "markdown",
   "metadata": {},
   "source": [
    "### Explain a single older male sample"
   ]
  },
  {
   "cell_type": "code",
   "execution_count": null,
   "metadata": {},
   "outputs": [],
   "source": [
    "from sklearn.model_selection import train_test_split\n",
    "from deepshap.data import preprocessed_data\n",
    "\n",
    "# Get the raw un-standardized data\n",
    "X, y = preprocessed_data()\n",
    "pids = np.unique(X.index.values)\n",
    "train_pids,test_pids = train_test_split(pids, random_state=0)\n",
    "strain_pids,valid_pids = train_test_split(train_pids, random_state=0)\n",
    "strain_inds = np.where([p in strain_pids for p in X.index.values])[0]\n",
    "raw_trainx = X.iloc[strain_inds,:]"
   ]
  },
  {
   "cell_type": "code",
   "execution_count": null,
   "metadata": {},
   "outputs": [],
   "source": [
    "shap.initjs()\n",
    "# Get older male data set\n",
    "older_male_inds = (raw_trainx[\"sex_isFemale\"] == False) & (raw_trainx[\"age\"] > 60)\n",
    "trainx_older_males = trainx[older_male_inds]\n",
    "raw_trainx_older_males = raw_trainx[older_male_inds]\n",
    "\n",
    "# Older male sample to explain\n",
    "expli_ind = 5\n",
    "explicand = trainx_older_males[expli_ind:expli_ind+1,:]\n",
    "explicand_raw = raw_trainx_older_males.iloc[expli_ind]\n",
    "print(explicand_raw)\n",
    "\n",
    "is_save = True\n",
    "# is_save = False\n",
    "\n",
    "#####################################################\n",
    "### Explain with background of random individuals ###\n",
    "#####################################################\n",
    "np.random.seed(10)\n",
    "n = trainx_older_males.shape[0]; stepsize = 1000\n",
    "refe = trainx[np.random.choice(n,stepsize,replace=False)]\n",
    "expl = shap.DeepExplainer(model, refe)\n",
    "attr = expl.shap_values(explicand)[0]\n",
    "\n",
    "# Make and save force plot\n",
    "if is_save:\n",
    "    fig = shap.force_plot(expl.expected_value, attr, explicand_raw, \n",
    "                          feat_names, matplotlib=True, show=False)\n",
    "    fig.savefig(\"fig/ind{}_randbackground.pdf\".format(expli_ind))\n",
    "else:\n",
    "    shap.force_plot(expl.expected_value, attr, explicand_raw, feat_names, matplotlib=True)\n",
    "    \n",
    "#####################################################\n",
    "### Explain with background of random older males ###\n",
    "#####################################################\n",
    "# Explain with background of random older males\n",
    "np.random.seed(10)\n",
    "n = trainx_older_males.shape[0]; stepsize = 1000\n",
    "inds = np.random.choice(n,stepsize,replace=False)\n",
    "refe = trainx_older_males[inds]\n",
    "expl = shap.DeepExplainer(model, refe)\n",
    "attr = expl.shap_values(explicand)[0]\n",
    "\n",
    "# Make and save force plot\n",
    "if is_save:\n",
    "    fig = shap.force_plot(expl.expected_value, attr, explicand_raw, \n",
    "                          feat_names, matplotlib=True, show=False)\n",
    "    fig.savefig(\"fig/ind{}_oldmalebackground.pdf\".format(expli_ind))\n",
    "else:\n",
    "    shap.force_plot(expl.expected_value, attr, explicand_raw, feat_names, matplotlib=True)"
   ]
  }
 ],
 "metadata": {
  "kernelspec": {
   "display_name": "Python (tf36)",
   "language": "python",
   "name": "tf36"
  },
  "language_info": {
   "codemirror_mode": {
    "name": "ipython",
    "version": 3
   },
   "file_extension": ".py",
   "mimetype": "text/x-python",
   "name": "python",
   "nbconvert_exporter": "python",
   "pygments_lexer": "ipython3",
   "version": "3.6.8"
  }
 },
 "nbformat": 4,
 "nbformat_minor": 2
}
